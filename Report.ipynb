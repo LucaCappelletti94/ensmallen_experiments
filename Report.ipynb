{
 "cells": [
  {
   "cell_type": "code",
   "execution_count": 18,
   "id": "9caad1a3",
   "metadata": {},
   "outputs": [],
   "source": [
    "from ensmallen_graph.datasets.linqs import CiteSeer, Cora, PubMedDiabetes\n",
    "from ensmallen_graph.datasets.linqs.parse_linqs import get_words_data"
   ]
  },
  {
   "cell_type": "code",
   "execution_count": 19,
   "id": "ef7586a6",
   "metadata": {},
   "outputs": [],
   "source": [
    "graph = CiteSeer()"
   ]
  },
  {
   "cell_type": "code",
   "execution_count": 23,
   "id": "9871acb5",
   "metadata": {},
   "outputs": [],
   "source": [
    "graph = PubMedDiabetes(preprocess=False)"
   ]
  },
  {
   "cell_type": "code",
   "execution_count": 24,
   "id": "3c08bd2a",
   "metadata": {},
   "outputs": [
    {
     "data": {
      "text/html": [
       "<h2>PubMedDiabetes</h2><p>The undirected graph PubMedDiabetes has 19717 heterogenous nodes and 44327 edges.</p><h3>RAM requirements</h3><p>The RAM requirements for the nodes and edges data structures are 3.27MB and 165.38KB respectively.</p><h3>Degree centrality</h3><p>The minimum node degree is 1, the maximum node degree is 171, the mode degree is 1, the mean degree is 4.50 and the node degree median is 2.</p><p>The nodes with highest degree centrality are: 9742976 (degree 171 and node type Diabetes Mellitus Type 2), 8366922 (degree 154 and node type Diabetes Mellitus Type 1), 11832527 (degree 131 and node type Diabetes Mellitus Type 2), 19479186 (degree 130 and node type Diabetes Mellitus Type 2) and 18776148 (degree 125 and node type Diabetes Mellitus Type 1).</p><h3>Node types</h3><p>The graph has 3 node types, which are Diabetes Mellitus Type 1 (7875 nodes, 39.94%), Diabetes Mellitus Type 2 (7739 nodes, 39.25%) and Diabetes Mellitus, Experimental (4103 nodes, 20.81%).</p><h4>RAM requirements</h4><p>The RAM requirements for the node types data structure is 986.88KB.</p>"
      ],
      "text/plain": [
       "<h2>PubMedDiabetes</h2><p>The undirected graph PubMedDiabetes has 19717 heterogenous nodes and 44327 edges.</p><h3>RAM requirements</h3><p>The RAM requirements for the nodes and edges data structures are 3.27MB and 165.38KB respectively.</p><h3>Degree centrality</h3><p>The minimum node degree is 1, the maximum node degree is 171, the mode degree is 1, the mean degree is 4.50 and the node degree median is 2.</p><p>The nodes with highest degree centrality are: 9742976 (degree 171 and node type Diabetes Mellitus Type 2), 8366922 (degree 154 and node type Diabetes Mellitus Type 1), 11832527 (degree 131 and node type Diabetes Mellitus Type 2), 19479186 (degree 130 and node type Diabetes Mellitus Type 2) and 18776148 (degree 125 and node type Diabetes Mellitus Type 1).</p><h3>Node types</h3><p>The graph has 3 node types, which are Diabetes Mellitus Type 1 (7875 nodes, 39.94%), Diabetes Mellitus Type 2 (7739 nodes, 39.25%) and Diabetes Mellitus, Experimental (4103 nodes, 20.81%).</p><h4>RAM requirements</h4><p>The RAM requirements for the node types data structure is 986.88KB.</p>"
      ]
     },
     "execution_count": 24,
     "metadata": {},
     "output_type": "execute_result"
    }
   ],
   "source": [
    "graph.filter_from_names(node_type_name_to_filter=[\"Word\"]).remove_edge_weights().remove_edge_types()"
   ]
  },
  {
   "cell_type": "code",
   "execution_count": null,
   "id": "5f7b4976",
   "metadata": {},
   "outputs": [],
   "source": []
  }
 ],
 "metadata": {
  "kernelspec": {
   "display_name": "Python 3",
   "language": "python",
   "name": "python3"
  },
  "language_info": {
   "codemirror_mode": {
    "name": "ipython",
    "version": 3
   },
   "file_extension": ".py",
   "mimetype": "text/x-python",
   "name": "python",
   "nbconvert_exporter": "python",
   "pygments_lexer": "ipython3",
   "version": "3.8.8"
  }
 },
 "nbformat": 4,
 "nbformat_minor": 5
}
