{
 "cells": [
  {
   "cell_type": "code",
   "execution_count": 43,
   "metadata": {},
   "outputs": [],
   "source": [
    "import pandas as pd\n",
    "from tqdm.auto import tqdm\n",
    "import requests\n",
    "import json"
   ]
  },
  {
   "cell_type": "code",
   "execution_count": 21,
   "metadata": {},
   "outputs": [],
   "source": [
    "graphs = pd.read_html(\"http://networkrepository.com/networks.php\")[0]"
   ]
  },
  {
   "cell_type": "code",
   "execution_count": 22,
   "metadata": {},
   "outputs": [],
   "source": [
    "url_pattern = \"http://nrvis.com/download/data/bio/{}.zip\""
   ]
  },
  {
   "cell_type": "code",
   "execution_count": 23,
   "metadata": {},
   "outputs": [],
   "source": [
    "def uri_exists(uri):\n",
    "    r = requests.get(url, stream=True)\n",
    "    if r.status_code == 200:\n",
    "        return True\n",
    "    else:\n",
    "        return False"
   ]
  },
  {
   "cell_type": "code",
   "execution_count": 40,
   "metadata": {},
   "outputs": [],
   "source": [
    "def get_metadata(name:str):\n",
    "    return {\n",
    "        \"url\": \"http://nrvis.com/download/data/bio/{}.zip\".format(name),\n",
    "        \"folder_name\": name.lower(),\n",
    "        \"graph\": name.lower(),\n",
    "        \"edge_file\": \"{}.edges\".format(name),\n",
    "        \"loading_settings\": {\n",
    "            \"edge_separator\": \" \",\n",
    "            \"edge_header\": False,\n",
    "            \"sources_column_number\": 0,\n",
    "            \"destinations_column_number\": 1,\n",
    "            \"edge_rows_to_skip\": 3\n",
    "        }\n",
    "    }"
   ]
  },
  {
   "cell_type": "code",
   "execution_count": 41,
   "metadata": {},
   "outputs": [
    {
     "data": {
      "application/vnd.jupyter.widget-view+json": {
       "model_id": "f181f521699f44b78c3ec1d41cb22c54",
       "version_major": 2,
       "version_minor": 0
      },
      "text/plain": [
       "HBox(children=(FloatProgress(value=0.0, max=37.0), HTML(value='')))"
      ]
     },
     "metadata": {},
     "output_type": "display_data"
    },
    {
     "name": "stdout",
     "output_type": "stream",
     "text": [
      "\n"
     ]
    }
   ],
   "source": [
    "metadata = {\n",
    "    graph.lower(): get_metadata(graph)\n",
    "    for graph in tqdm(graphs[graphs[\"Type\"] == \"bio\"][\"Graph Name\"])\n",
    "}"
   ]
  },
  {
   "cell_type": "code",
   "execution_count": 44,
   "metadata": {},
   "outputs": [
    {
     "data": {
      "text/plain": [
       "'{\"bio-ce-cx\": {\"url\": \"http://nrvis.com/download/data/bio/bio-CE-CX.zip\", \"folder_name\": \"bio-ce-cx\", \"graph\": \"bio-ce-cx\", \"edge_file\": \"bio-CE-CX.edges\", \"loading_settings\": {\"edge_separator\": \" \", \"edge_header\": false, \"sources_column_number\": 0, \"destinations_column_number\": 1, \"edge_rows_to_skip\": 3}}, \"bio-ce-gn\": {\"url\": \"http://nrvis.com/download/data/bio/bio-CE-GN.zip\", \"folder_name\": \"bio-ce-gn\", \"graph\": \"bio-ce-gn\", \"edge_file\": \"bio-CE-GN.edges\", \"loading_settings\": {\"edge_separator\": \" \", \"edge_header\": false, \"sources_column_number\": 0, \"destinations_column_number\": 1, \"edge_rows_to_skip\": 3}}, \"bio-ce-gt\": {\"url\": \"http://nrvis.com/download/data/bio/bio-CE-GT.zip\", \"folder_name\": \"bio-ce-gt\", \"graph\": \"bio-ce-gt\", \"edge_file\": \"bio-CE-GT.edges\", \"loading_settings\": {\"edge_separator\": \" \", \"edge_header\": false, \"sources_column_number\": 0, \"destinations_column_number\": 1, \"edge_rows_to_skip\": 3}}, \"bio-ce-ht\": {\"url\": \"http://nrvis.com/download/data/bio/bio-CE-HT.zip\", \"folder_name\": \"bio-ce-ht\", \"graph\": \"bio-ce-ht\", \"edge_file\": \"bio-CE-HT.edges\", \"loading_settings\": {\"edge_separator\": \" \", \"edge_header\": false, \"sources_column_number\": 0, \"destinations_column_number\": 1, \"edge_rows_to_skip\": 3}}, \"bio-ce-lc\": {\"url\": \"http://nrvis.com/download/data/bio/bio-CE-LC.zip\", \"folder_name\": \"bio-ce-lc\", \"graph\": \"bio-ce-lc\", \"edge_file\": \"bio-CE-LC.edges\", \"loading_settings\": {\"edge_separator\": \" \", \"edge_header\": false, \"sources_column_number\": 0, \"destinations_column_number\": 1, \"edge_rows_to_skip\": 3}}, \"bio-ce-pg\": {\"url\": \"http://nrvis.com/download/data/bio/bio-CE-PG.zip\", \"folder_name\": \"bio-ce-pg\", \"graph\": \"bio-ce-pg\", \"edge_file\": \"bio-CE-PG.edges\", \"loading_settings\": {\"edge_separator\": \" \", \"edge_header\": false, \"sources_column_number\": 0, \"destinations_column_number\": 1, \"edge_rows_to_skip\": 3}}, \"bio-dm-cx\": {\"url\": \"http://nrvis.com/download/data/bio/bio-DM-CX.zip\", \"folder_name\": \"bio-dm-cx\", \"graph\": \"bio-dm-cx\", \"edge_file\": \"bio-DM-CX.edges\", \"loading_settings\": {\"edge_separator\": \" \", \"edge_header\": false, \"sources_column_number\": 0, \"destinations_column_number\": 1, \"edge_rows_to_skip\": 3}}, \"bio-dm-ht\": {\"url\": \"http://nrvis.com/download/data/bio/bio-DM-HT.zip\", \"folder_name\": \"bio-dm-ht\", \"graph\": \"bio-dm-ht\", \"edge_file\": \"bio-DM-HT.edges\", \"loading_settings\": {\"edge_separator\": \" \", \"edge_header\": false, \"sources_column_number\": 0, \"destinations_column_number\": 1, \"edge_rows_to_skip\": 3}}, \"bio-dm-lc\": {\"url\": \"http://nrvis.com/download/data/bio/bio-DM-LC.zip\", \"folder_name\": \"bio-dm-lc\", \"graph\": \"bio-dm-lc\", \"edge_file\": \"bio-DM-LC.edges\", \"loading_settings\": {\"edge_separator\": \" \", \"edge_header\": false, \"sources_column_number\": 0, \"destinations_column_number\": 1, \"edge_rows_to_skip\": 3}}, \"bio-dr-cx\": {\"url\": \"http://nrvis.com/download/data/bio/bio-DR-CX.zip\", \"folder_name\": \"bio-dr-cx\", \"graph\": \"bio-dr-cx\", \"edge_file\": \"bio-DR-CX.edges\", \"loading_settings\": {\"edge_separator\": \" \", \"edge_header\": false, \"sources_column_number\": 0, \"destinations_column_number\": 1, \"edge_rows_to_skip\": 3}}, \"bio-hs-cx\": {\"url\": \"http://nrvis.com/download/data/bio/bio-HS-CX.zip\", \"folder_name\": \"bio-hs-cx\", \"graph\": \"bio-hs-cx\", \"edge_file\": \"bio-HS-CX.edges\", \"loading_settings\": {\"edge_separator\": \" \", \"edge_header\": false, \"sources_column_number\": 0, \"destinations_column_number\": 1, \"edge_rows_to_skip\": 3}}, \"bio-hs-ht\": {\"url\": \"http://nrvis.com/download/data/bio/bio-HS-HT.zip\", \"folder_name\": \"bio-hs-ht\", \"graph\": \"bio-hs-ht\", \"edge_file\": \"bio-HS-HT.edges\", \"loading_settings\": {\"edge_separator\": \" \", \"edge_header\": false, \"sources_column_number\": 0, \"destinations_column_number\": 1, \"edge_rows_to_skip\": 3}}, \"bio-hs-lc\": {\"url\": \"http://nrvis.com/download/data/bio/bio-HS-LC.zip\", \"folder_name\": \"bio-hs-lc\", \"graph\": \"bio-hs-lc\", \"edge_file\": \"bio-HS-LC.edges\", \"loading_settings\": {\"edge_separator\": \" \", \"edge_header\": false, \"sources_column_number\": 0, \"destinations_column_number\": 1, \"edge_rows_to_skip\": 3}}, \"bio-mutag-g1\": {\"url\": \"http://nrvis.com/download/data/bio/bio-MUTAG-g1.zip\", \"folder_name\": \"bio-mutag-g1\", \"graph\": \"bio-mutag-g1\", \"edge_file\": \"bio-MUTAG-g1.edges\", \"loading_settings\": {\"edge_separator\": \" \", \"edge_header\": false, \"sources_column_number\": 0, \"destinations_column_number\": 1, \"edge_rows_to_skip\": 3}}, \"bio-sc-cc\": {\"url\": \"http://nrvis.com/download/data/bio/bio-SC-CC.zip\", \"folder_name\": \"bio-sc-cc\", \"graph\": \"bio-sc-cc\", \"edge_file\": \"bio-SC-CC.edges\", \"loading_settings\": {\"edge_separator\": \" \", \"edge_header\": false, \"sources_column_number\": 0, \"destinations_column_number\": 1, \"edge_rows_to_skip\": 3}}, \"bio-sc-gt\": {\"url\": \"http://nrvis.com/download/data/bio/bio-SC-GT.zip\", \"folder_name\": \"bio-sc-gt\", \"graph\": \"bio-sc-gt\", \"edge_file\": \"bio-SC-GT.edges\", \"loading_settings\": {\"edge_separator\": \" \", \"edge_header\": false, \"sources_column_number\": 0, \"destinations_column_number\": 1, \"edge_rows_to_skip\": 3}}, \"bio-sc-ht\": {\"url\": \"http://nrvis.com/download/data/bio/bio-SC-HT.zip\", \"folder_name\": \"bio-sc-ht\", \"graph\": \"bio-sc-ht\", \"edge_file\": \"bio-SC-HT.edges\", \"loading_settings\": {\"edge_separator\": \" \", \"edge_header\": false, \"sources_column_number\": 0, \"destinations_column_number\": 1, \"edge_rows_to_skip\": 3}}, \"bio-sc-lc\": {\"url\": \"http://nrvis.com/download/data/bio/bio-SC-LC.zip\", \"folder_name\": \"bio-sc-lc\", \"graph\": \"bio-sc-lc\", \"edge_file\": \"bio-SC-LC.edges\", \"loading_settings\": {\"edge_separator\": \" \", \"edge_header\": false, \"sources_column_number\": 0, \"destinations_column_number\": 1, \"edge_rows_to_skip\": 3}}, \"bio-sc-ts\": {\"url\": \"http://nrvis.com/download/data/bio/bio-SC-TS.zip\", \"folder_name\": \"bio-sc-ts\", \"graph\": \"bio-sc-ts\", \"edge_file\": \"bio-SC-TS.edges\", \"loading_settings\": {\"edge_separator\": \" \", \"edge_header\": false, \"sources_column_number\": 0, \"destinations_column_number\": 1, \"edge_rows_to_skip\": 3}}, \"bio-wormnet-v3-benchmark\": {\"url\": \"http://nrvis.com/download/data/bio/bio-WormNet-v3-benchmark.zip\", \"folder_name\": \"bio-wormnet-v3-benchmark\", \"graph\": \"bio-wormnet-v3-benchmark\", \"edge_file\": \"bio-WormNet-v3-benchmark.edges\", \"loading_settings\": {\"edge_separator\": \" \", \"edge_header\": false, \"sources_column_number\": 0, \"destinations_column_number\": 1, \"edge_rows_to_skip\": 3}}, \"bio-wormnet-v3\": {\"url\": \"http://nrvis.com/download/data/bio/bio-WormNet-v3.zip\", \"folder_name\": \"bio-wormnet-v3\", \"graph\": \"bio-wormnet-v3\", \"edge_file\": \"bio-WormNet-v3.edges\", \"loading_settings\": {\"edge_separator\": \" \", \"edge_header\": false, \"sources_column_number\": 0, \"destinations_column_number\": 1, \"edge_rows_to_skip\": 3}}, \"bio-celegans-dir\": {\"url\": \"http://nrvis.com/download/data/bio/bio-celegans-dir.zip\", \"folder_name\": \"bio-celegans-dir\", \"graph\": \"bio-celegans-dir\", \"edge_file\": \"bio-celegans-dir.edges\", \"loading_settings\": {\"edge_separator\": \" \", \"edge_header\": false, \"sources_column_number\": 0, \"destinations_column_number\": 1, \"edge_rows_to_skip\": 3}}, \"bio-celegans\": {\"url\": \"http://nrvis.com/download/data/bio/bio-celegans.zip\", \"folder_name\": \"bio-celegans\", \"graph\": \"bio-celegans\", \"edge_file\": \"bio-celegans.edges\", \"loading_settings\": {\"edge_separator\": \" \", \"edge_header\": false, \"sources_column_number\": 0, \"destinations_column_number\": 1, \"edge_rows_to_skip\": 3}}, \"bio-diseasome\": {\"url\": \"http://nrvis.com/download/data/bio/bio-diseasome.zip\", \"folder_name\": \"bio-diseasome\", \"graph\": \"bio-diseasome\", \"edge_file\": \"bio-diseasome.edges\", \"loading_settings\": {\"edge_separator\": \" \", \"edge_header\": false, \"sources_column_number\": 0, \"destinations_column_number\": 1, \"edge_rows_to_skip\": 3}}, \"bio-dmela\": {\"url\": \"http://nrvis.com/download/data/bio/bio-dmela.zip\", \"folder_name\": \"bio-dmela\", \"graph\": \"bio-dmela\", \"edge_file\": \"bio-dmela.edges\", \"loading_settings\": {\"edge_separator\": \" \", \"edge_header\": false, \"sources_column_number\": 0, \"destinations_column_number\": 1, \"edge_rows_to_skip\": 3}}, \"bio-grid-fission-yeast\": {\"url\": \"http://nrvis.com/download/data/bio/bio-grid-fission-yeast.zip\", \"folder_name\": \"bio-grid-fission-yeast\", \"graph\": \"bio-grid-fission-yeast\", \"edge_file\": \"bio-grid-fission-yeast.edges\", \"loading_settings\": {\"edge_separator\": \" \", \"edge_header\": false, \"sources_column_number\": 0, \"destinations_column_number\": 1, \"edge_rows_to_skip\": 3}}, \"bio-grid-fruitfly\": {\"url\": \"http://nrvis.com/download/data/bio/bio-grid-fruitfly.zip\", \"folder_name\": \"bio-grid-fruitfly\", \"graph\": \"bio-grid-fruitfly\", \"edge_file\": \"bio-grid-fruitfly.edges\", \"loading_settings\": {\"edge_separator\": \" \", \"edge_header\": false, \"sources_column_number\": 0, \"destinations_column_number\": 1, \"edge_rows_to_skip\": 3}}, \"bio-grid-human\": {\"url\": \"http://nrvis.com/download/data/bio/bio-grid-human.zip\", \"folder_name\": \"bio-grid-human\", \"graph\": \"bio-grid-human\", \"edge_file\": \"bio-grid-human.edges\", \"loading_settings\": {\"edge_separator\": \" \", \"edge_header\": false, \"sources_column_number\": 0, \"destinations_column_number\": 1, \"edge_rows_to_skip\": 3}}, \"bio-grid-mouse\": {\"url\": \"http://nrvis.com/download/data/bio/bio-grid-mouse.zip\", \"folder_name\": \"bio-grid-mouse\", \"graph\": \"bio-grid-mouse\", \"edge_file\": \"bio-grid-mouse.edges\", \"loading_settings\": {\"edge_separator\": \" \", \"edge_header\": false, \"sources_column_number\": 0, \"destinations_column_number\": 1, \"edge_rows_to_skip\": 3}}, \"bio-grid-plant\": {\"url\": \"http://nrvis.com/download/data/bio/bio-grid-plant.zip\", \"folder_name\": \"bio-grid-plant\", \"graph\": \"bio-grid-plant\", \"edge_file\": \"bio-grid-plant.edges\", \"loading_settings\": {\"edge_separator\": \" \", \"edge_header\": false, \"sources_column_number\": 0, \"destinations_column_number\": 1, \"edge_rows_to_skip\": 3}}, \"bio-grid-worm\": {\"url\": \"http://nrvis.com/download/data/bio/bio-grid-worm.zip\", \"folder_name\": \"bio-grid-worm\", \"graph\": \"bio-grid-worm\", \"edge_file\": \"bio-grid-worm.edges\", \"loading_settings\": {\"edge_separator\": \" \", \"edge_header\": false, \"sources_column_number\": 0, \"destinations_column_number\": 1, \"edge_rows_to_skip\": 3}}, \"bio-grid-yeast\": {\"url\": \"http://nrvis.com/download/data/bio/bio-grid-yeast.zip\", \"folder_name\": \"bio-grid-yeast\", \"graph\": \"bio-grid-yeast\", \"edge_file\": \"bio-grid-yeast.edges\", \"loading_settings\": {\"edge_separator\": \" \", \"edge_header\": false, \"sources_column_number\": 0, \"destinations_column_number\": 1, \"edge_rows_to_skip\": 3}}, \"bio-human-gene1\": {\"url\": \"http://nrvis.com/download/data/bio/bio-human-gene1.zip\", \"folder_name\": \"bio-human-gene1\", \"graph\": \"bio-human-gene1\", \"edge_file\": \"bio-human-gene1.edges\", \"loading_settings\": {\"edge_separator\": \" \", \"edge_header\": false, \"sources_column_number\": 0, \"destinations_column_number\": 1, \"edge_rows_to_skip\": 3}}, \"bio-human-gene2\": {\"url\": \"http://nrvis.com/download/data/bio/bio-human-gene2.zip\", \"folder_name\": \"bio-human-gene2\", \"graph\": \"bio-human-gene2\", \"edge_file\": \"bio-human-gene2.edges\", \"loading_settings\": {\"edge_separator\": \" \", \"edge_header\": false, \"sources_column_number\": 0, \"destinations_column_number\": 1, \"edge_rows_to_skip\": 3}}, \"bio-mouse-gene\": {\"url\": \"http://nrvis.com/download/data/bio/bio-mouse-gene.zip\", \"folder_name\": \"bio-mouse-gene\", \"graph\": \"bio-mouse-gene\", \"edge_file\": \"bio-mouse-gene.edges\", \"loading_settings\": {\"edge_separator\": \" \", \"edge_header\": false, \"sources_column_number\": 0, \"destinations_column_number\": 1, \"edge_rows_to_skip\": 3}}, \"bio-yeast-protein-inter\": {\"url\": \"http://nrvis.com/download/data/bio/bio-yeast-protein-inter.zip\", \"folder_name\": \"bio-yeast-protein-inter\", \"graph\": \"bio-yeast-protein-inter\", \"edge_file\": \"bio-yeast-protein-inter.edges\", \"loading_settings\": {\"edge_separator\": \" \", \"edge_header\": false, \"sources_column_number\": 0, \"destinations_column_number\": 1, \"edge_rows_to_skip\": 3}}, \"bio-yeast\": {\"url\": \"http://nrvis.com/download/data/bio/bio-yeast.zip\", \"folder_name\": \"bio-yeast\", \"graph\": \"bio-yeast\", \"edge_file\": \"bio-yeast.edges\", \"loading_settings\": {\"edge_separator\": \" \", \"edge_header\": false, \"sources_column_number\": 0, \"destinations_column_number\": 1, \"edge_rows_to_skip\": 3}}}'"
      ]
     },
     "execution_count": 44,
     "metadata": {},
     "output_type": "execute_result"
    }
   ],
   "source": [
    "json.dumps(metadata)"
   ]
  },
  {
   "cell_type": "code",
   "execution_count": null,
   "metadata": {},
   "outputs": [],
   "source": []
  }
 ],
 "metadata": {
  "kernelspec": {
   "display_name": "Python 3",
   "language": "python",
   "name": "python3"
  },
  "language_info": {
   "codemirror_mode": {
    "name": "ipython",
    "version": 3
   },
   "file_extension": ".py",
   "mimetype": "text/x-python",
   "name": "python",
   "nbconvert_exporter": "python",
   "pygments_lexer": "ipython3",
   "version": "3.7.6"
  }
 },
 "nbformat": 4,
 "nbformat_minor": 4
}
