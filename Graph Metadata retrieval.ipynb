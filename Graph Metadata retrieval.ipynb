{
 "cells": [
  {
   "cell_type": "code",
   "execution_count": 1,
   "metadata": {},
   "outputs": [],
   "source": [
    "import pandas as pd\n",
    "from tqdm.auto import tqdm\n",
    "import requests\n",
    "import json"
   ]
  },
  {
   "cell_type": "code",
   "execution_count": 2,
   "metadata": {},
   "outputs": [],
   "source": [
    "graphs = pd.read_html(\"http://networkrepository.com/networks.php\")[0]"
   ]
  },
  {
   "cell_type": "code",
   "execution_count": null,
   "metadata": {},
   "outputs": [],
   "source": [
    "def parse_edge_count(edge_count:str)->int:\n",
    "    "
   ]
  },
  {
   "cell_type": "code",
   "execution_count": 6,
   "metadata": {
    "scrolled": true
   },
   "outputs": [
    {
     "data": {
      "text/html": [
       "<div>\n",
       "<style scoped>\n",
       "    .dataframe tbody tr th:only-of-type {\n",
       "        vertical-align: middle;\n",
       "    }\n",
       "\n",
       "    .dataframe tbody tr th {\n",
       "        vertical-align: top;\n",
       "    }\n",
       "\n",
       "    .dataframe thead th {\n",
       "        text-align: right;\n",
       "    }\n",
       "</style>\n",
       "<table border=\"1\" class=\"dataframe\">\n",
       "  <thead>\n",
       "    <tr style=\"text-align: right;\">\n",
       "      <th></th>\n",
       "      <th>Graph Name</th>\n",
       "      <th>Type</th>\n",
       "      <th>|V|</th>\n",
       "      <th>|E|</th>\n",
       "      <th>dmax</th>\n",
       "      <th>davg</th>\n",
       "      <th>r</th>\n",
       "      <th>|T|</th>\n",
       "      <th>Tavg</th>\n",
       "      <th>Tmax</th>\n",
       "      <th>κavg</th>\n",
       "      <th>κ</th>\n",
       "      <th>K</th>\n",
       "      <th>ωheu</th>\n",
       "      <th>Size</th>\n",
       "      <th>Download</th>\n",
       "    </tr>\n",
       "  </thead>\n",
       "  <tbody>\n",
       "    <tr>\n",
       "      <th>646</th>\n",
       "      <td>soc-friendster</td>\n",
       "      <td>massive</td>\n",
       "      <td>66M</td>\n",
       "      <td>2B</td>\n",
       "      <td>5K</td>\n",
       "      <td>55</td>\n",
       "      <td>-</td>\n",
       "      <td>13B</td>\n",
       "      <td>190</td>\n",
       "      <td>158K</td>\n",
       "      <td>-</td>\n",
       "      <td>0.16</td>\n",
       "      <td>305</td>\n",
       "      <td>129</td>\n",
       "      <td>8 GB</td>\n",
       "      <td>Download</td>\n",
       "    </tr>\n",
       "    <tr>\n",
       "      <th>655</th>\n",
       "      <td>web-ClueWeb09</td>\n",
       "      <td>massive</td>\n",
       "      <td>2B</td>\n",
       "      <td>8B</td>\n",
       "      <td>-</td>\n",
       "      <td>-</td>\n",
       "      <td>-</td>\n",
       "      <td>-</td>\n",
       "      <td>-</td>\n",
       "      <td>-</td>\n",
       "      <td>-</td>\n",
       "      <td>-</td>\n",
       "      <td>-</td>\n",
       "      <td>-</td>\n",
       "      <td>37 GB</td>\n",
       "      <td>Download</td>\n",
       "    </tr>\n",
       "    <tr>\n",
       "      <th>3122</th>\n",
       "      <td>sk-2005</td>\n",
       "      <td>misc</td>\n",
       "      <td>38M</td>\n",
       "      <td>1B</td>\n",
       "      <td>3M</td>\n",
       "      <td>30.83</td>\n",
       "      <td>-</td>\n",
       "      <td>-</td>\n",
       "      <td>-</td>\n",
       "      <td>-</td>\n",
       "      <td>-</td>\n",
       "      <td>-</td>\n",
       "      <td>-</td>\n",
       "      <td>-</td>\n",
       "      <td>3 GB</td>\n",
       "      <td>Download</td>\n",
       "    </tr>\n",
       "  </tbody>\n",
       "</table>\n",
       "</div>"
      ],
      "text/plain": [
       "          Graph Name     Type  |V| |E| dmax   davg  r  |T| Tavg  Tmax κavg  \\\n",
       "646   soc-friendster  massive  66M  2B   5K     55  -  13B  190  158K    -   \n",
       "655    web-ClueWeb09  massive   2B  8B    -      -  -    -    -     -    -   \n",
       "3122         sk-2005     misc  38M  1B   3M  30.83  -    -    -     -    -   \n",
       "\n",
       "         κ    K ωheu   Size  Download  \n",
       "646   0.16  305  129   8 GB  Download  \n",
       "655      -    -    -  37 GB  Download  \n",
       "3122     -    -    -   3 GB  Download  "
      ]
     },
     "execution_count": 6,
     "metadata": {},
     "output_type": "execute_result"
    }
   ],
   "source": [
    "graphs[graphs[\"|E|\"].str.endswith(\"B\")]"
   ]
  },
  {
   "cell_type": "code",
   "execution_count": 22,
   "metadata": {},
   "outputs": [],
   "source": [
    "url_pattern = \"http://nrvis.com/download/data/bio/{}.zip\""
   ]
  },
  {
   "cell_type": "code",
   "execution_count": 23,
   "metadata": {},
   "outputs": [],
   "source": [
    "def uri_exists(uri):\n",
    "    r = requests.get(url, stream=True)\n",
    "    if r.status_code == 200:\n",
    "        return True\n",
    "    else:\n",
    "        return False"
   ]
  },
  {
   "cell_type": "code",
   "execution_count": 40,
   "metadata": {},
   "outputs": [],
   "source": [
    "def get_metadata(name:str):\n",
    "    return {\n",
    "        \"url\": \"http://nrvis.com/download/data/bio/{}.zip\".format(name),\n",
    "        \"folder_name\": name.lower(),\n",
    "        \"graph\": name.lower(),\n",
    "        \"edge_file\": \"{}.edges\".format(name),\n",
    "        \"loading_settings\": {\n",
    "            \"edge_separator\": \" \",\n",
    "            \"edge_header\": False,\n",
    "            \"sources_column_number\": 0,\n",
    "            \"destinations_column_number\": 1,\n",
    "            \"edge_rows_to_skip\": 3\n",
    "        }\n",
    "    }"
   ]
  },
  {
   "cell_type": "code",
   "execution_count": 41,
   "metadata": {},
   "outputs": [
    {
     "data": {
      "application/vnd.jupyter.widget-view+json": {
       "model_id": "f181f521699f44b78c3ec1d41cb22c54",
       "version_major": 2,
       "version_minor": 0
      },
      "text/plain": [
       "HBox(children=(FloatProgress(value=0.0, max=37.0), HTML(value='')))"
      ]
     },
     "metadata": {},
     "output_type": "display_data"
    },
    {
     "name": "stdout",
     "output_type": "stream",
     "text": [
      "\n"
     ]
    }
   ],
   "source": [
    "metadata = {\n",
    "    graph.lower(): get_metadata(graph)\n",
    "    for graph in tqdm(graphs[graphs[\"Type\"] == \"bio\"][\"Graph Name\"])\n",
    "}"
   ]
  }
 ],
 "metadata": {
  "kernelspec": {
   "display_name": "Python 3",
   "language": "python",
   "name": "python3"
  },
  "language_info": {
   "codemirror_mode": {
    "name": "ipython",
    "version": 3
   },
   "file_extension": ".py",
   "mimetype": "text/x-python",
   "name": "python",
   "nbconvert_exporter": "python",
   "pygments_lexer": "ipython3",
   "version": "3.7.6"
  }
 },
 "nbformat": 4,
 "nbformat_minor": 4
}
