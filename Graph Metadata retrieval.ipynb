{
 "cells": [
  {
   "cell_type": "code",
   "execution_count": 43,
   "metadata": {},
   "outputs": [],
   "source": [
    "import pandas as pd\n",
    "from tqdm.auto import tqdm\n",
    "import requests\n",
    "import json"
   ]
  },
  {
   "cell_type": "code",
   "execution_count": 21,
   "metadata": {},
   "outputs": [],
   "source": [
    "graphs = pd.read_html(\"http://networkrepository.com/networks.php\")[0]"
   ]
  },
  {
   "cell_type": "code",
   "execution_count": 22,
   "metadata": {},
   "outputs": [],
   "source": [
    "url_pattern = \"http://nrvis.com/download/data/bio/{}.zip\""
   ]
  },
  {
   "cell_type": "code",
   "execution_count": 23,
   "metadata": {},
   "outputs": [],
   "source": [
    "def uri_exists(uri):\n",
    "    r = requests.get(url, stream=True)\n",
    "    if r.status_code == 200:\n",
    "        return True\n",
    "    else:\n",
    "        return False"
   ]
  },
  {
   "cell_type": "code",
   "execution_count": 40,
   "metadata": {},
   "outputs": [],
   "source": [
    "def get_metadata(name:str):\n",
    "    return {\n",
    "        \"url\": \"http://nrvis.com/download/data/bio/{}.zip\".format(name),\n",
    "        \"folder_name\": name.lower(),\n",
    "        \"graph\": name.lower(),\n",
    "        \"edge_file\": \"{}.edges\".format(name),\n",
    "        \"loading_settings\": {\n",
    "            \"edge_separator\": \" \",\n",
    "            \"edge_header\": False,\n",
    "            \"sources_column_number\": 0,\n",
    "            \"destinations_column_number\": 1,\n",
    "            \"edge_rows_to_skip\": 3\n",
    "        }\n",
    "    }"
   ]
  },
  {
   "cell_type": "code",
   "execution_count": 41,
   "metadata": {},
   "outputs": [
    {
     "data": {
      "application/vnd.jupyter.widget-view+json": {
       "model_id": "f181f521699f44b78c3ec1d41cb22c54",
       "version_major": 2,
       "version_minor": 0
      },
      "text/plain": [
       "HBox(children=(FloatProgress(value=0.0, max=37.0), HTML(value='')))"
      ]
     },
     "metadata": {},
     "output_type": "display_data"
    },
    {
     "name": "stdout",
     "output_type": "stream",
     "text": [
      "\n"
     ]
    }
   ],
   "source": [
    "metadata = {\n",
    "    graph.lower(): get_metadata(graph)\n",
    "    for graph in tqdm(graphs[graphs[\"Type\"] == \"bio\"][\"Graph Name\"])\n",
    "}"
   ]
  }
 ],
 "metadata": {
  "kernelspec": {
   "display_name": "Python 3",
   "language": "python",
   "name": "python3"
  },
  "language_info": {
   "codemirror_mode": {
    "name": "ipython",
    "version": 3
   },
   "file_extension": ".py",
   "mimetype": "text/x-python",
   "name": "python",
   "nbconvert_exporter": "python",
   "pygments_lexer": "ipython3",
   "version": "3.7.6"
  }
 },
 "nbformat": 4,
 "nbformat_minor": 4
}
