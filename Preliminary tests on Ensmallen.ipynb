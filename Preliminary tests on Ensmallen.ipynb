{
 "cells": [
  {
   "cell_type": "code",
   "execution_count": 1,
   "metadata": {},
   "outputs": [],
   "source": [
    "from ensmallen_graph import EnsmallenGraph\n",
    "import pandas as pd\n",
    "from tqdm.auto import tqdm\n",
    "import os\n",
    "from time import perf_counter\n",
    "from humanize import naturaldelta"
   ]
  },
  {
   "cell_type": "code",
   "execution_count": 2,
   "metadata": {},
   "outputs": [],
   "source": [
    "data = pd.read_json(\"graphs.json\")"
   ]
  },
  {
   "cell_type": "code",
   "execution_count": 3,
   "metadata": {},
   "outputs": [],
   "source": [
    "walk_length = 50"
   ]
  },
  {
   "cell_type": "code",
   "execution_count": null,
   "metadata": {},
   "outputs": [
    {
     "data": {
      "application/vnd.jupyter.widget-view+json": {
       "model_id": "3c79dfa727d84151bef1a1b81504f1c4",
       "version_major": 2,
       "version_minor": 0
      },
      "text/plain": [
       "HBox(children=(FloatProgress(value=0.0, max=14.0), HTML(value='')))"
      ]
     },
     "metadata": {},
     "output_type": "display_data"
    }
   ],
   "source": [
    "results = []\n",
    "reports = []\n",
    "for _, row in tqdm(data.iterrows(), total=len(data)):\n",
    "    edge_path = os.path.join(\"graphs\", row.folder_name, \"sanitized_graph.tsv\")\n",
    "    start = perf_counter()\n",
    "    graph = EnsmallenGraph.from_csv(\n",
    "        edge_path,\n",
    "        sources_column=\"subject\",\n",
    "        destinations_column=\"object\",\n",
    "        directed=False\n",
    "    )\n",
    "    building_delta = perf_counter() - start\n",
    "    reports.append({\n",
    "        \"graph\":row.graph,\n",
    "        **graph.report()\n",
    "    })\n",
    "    start = perf_counter()\n",
    "    graph.walk(walk_length, verbose=True)\n",
    "    walk_delta = perf_counter() - start\n",
    "    results.append({\n",
    "        \"graph\":row.graph,\n",
    "        \"building_delta\":building_delta,\n",
    "        \"walk_delta\":walk_delta,\n",
    "        \"human_building_delta\":naturaldelta(building_delta),\n",
    "        \"human_walk_delta\":naturaldelta(walk_delta)\n",
    "    })"
   ]
  }
 ],
 "metadata": {
  "kernelspec": {
   "display_name": "Python 3",
   "language": "python",
   "name": "python3"
  },
  "language_info": {
   "codemirror_mode": {
    "name": "ipython",
    "version": 3
   },
   "file_extension": ".py",
   "mimetype": "text/x-python",
   "name": "python",
   "nbconvert_exporter": "python",
   "pygments_lexer": "ipython3",
   "version": "3.7.6"
  }
 },
 "nbformat": 4,
 "nbformat_minor": 4
}
